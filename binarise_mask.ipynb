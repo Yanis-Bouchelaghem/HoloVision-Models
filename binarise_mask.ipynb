{
 "cells": [
  {
   "cell_type": "code",
   "execution_count": 3,
   "metadata": {},
   "outputs": [
    {
     "data": {
      "text/plain": [
       "'binarized_passport_hologram_mask.png'"
      ]
     },
     "execution_count": 3,
     "metadata": {},
     "output_type": "execute_result"
    }
   ],
   "source": [
    "from PIL import Image, ImageOps\n",
    "\n",
    "# Load the image\n",
    "image_path = \"passport_hologram_mask.png\"\n",
    "image = Image.open(image_path)\n",
    "\n",
    "# Convert the image to grayscale\n",
    "gray_image = ImageOps.grayscale(image)\n",
    "\n",
    "# Binarize the image using a threshold\n",
    "threshold = 10\n",
    "binarized_image = gray_image.point(lambda x: 255 if x > threshold else 0, '1')\n",
    "\n",
    "# Save the binarized image\n",
    "binarized_image_path = \"binarized_passport_hologram_mask.png\"\n",
    "binarized_image.save(binarized_image_path)\n",
    "\n",
    "binarized_image_path\n"
   ]
  },
  {
   "cell_type": "code",
   "execution_count": null,
   "metadata": {},
   "outputs": [],
   "source": []
  }
 ],
 "metadata": {
  "kernelspec": {
   "display_name": "venv",
   "language": "python",
   "name": "python3"
  },
  "language_info": {
   "codemirror_mode": {
    "name": "ipython",
    "version": 3
   },
   "file_extension": ".py",
   "mimetype": "text/x-python",
   "name": "python",
   "nbconvert_exporter": "python",
   "pygments_lexer": "ipython3",
   "version": "3.12.0"
  }
 },
 "nbformat": 4,
 "nbformat_minor": 2
}
